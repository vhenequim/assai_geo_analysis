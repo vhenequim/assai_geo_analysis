{
 "cells": [
  {
   "cell_type": "code",
   "execution_count": 100,
   "metadata": {},
   "outputs": [],
   "source": [
    "import polars as pl\n",
    "import pandas as pd\n",
    "import json"
   ]
  },
  {
   "cell_type": "code",
   "execution_count": 101,
   "metadata": {},
   "outputs": [],
   "source": [
    "df_data = pl.read_json('data.json')\n",
    "df2 = pd.read_json('data.json')\n",
    "df_old_data = pl.read_excel(r'Backup\\Lojas Assaí.xlsx')"
   ]
  },
  {
   "cell_type": "code",
   "execution_count": 102,
   "metadata": {},
   "outputs": [],
   "source": [
    "def start_pipeline(dataf):\n",
    "    return dataf.clone()\n",
    "\n",
    "def drop_columns_new(dataf):\n",
    "    dataf = dataf.drop('url', 'subRegiao', 'subRegiaoTid', 'telefone', 'televendas', 'horario', 'email', 'ico_sust', 'voce_encontra', 'destaques', 'eslug', 'eid', 'e', 'tid', 'whatsapp', 'mapa', 'complemento', 'nid', 'cep', 'loja_id')\n",
    "    return dataf\n",
    "\n",
    "def drop_columns_old(dataf):\n",
    "    dataf = dataf.drop('Unnamed: 4', 'Código Município')\n",
    "    return dataf\n",
    "\n",
    "def strip_chars_new(dataf):\n",
    "    dataf = dataf.with_columns(pl.col(\"n\").str.strip_chars())\n",
    "    return dataf\n",
    "\n",
    "def strip_chars_old(dataf):\n",
    "    dataf = dataf.with_columns(pl.col(\"Unidade\").str.strip_chars())\n",
    "    return dataf\n",
    "\n",
    "def rename_columns(dataf):\n",
    "    dataf = dataf.rename({'n':'Unidade', 'c':'Município', 'uf':'UF', 'lat':'LAT', 'lon':'LONG', 'logradouro':'Endereço'})\n",
    "    dataf = dataf.cast({\"LAT\": pl.Float64, \"LONG\": pl.Float64})\n",
    "    return dataf\n",
    "\n",
    "def sort_columns(dataf):\n",
    "    dataf = dataf.select(['Unidade','Endereço','Município','UF','LAT','LONG'])\n",
    "    return dataf\n",
    "\n",
    "\n"
   ]
  },
  {
   "cell_type": "code",
   "execution_count": 103,
   "metadata": {},
   "outputs": [],
   "source": [
    "df = (df_data\n",
    " .pipe(start_pipeline)\n",
    " .pipe(drop_columns_new)\n",
    " .pipe(strip_chars_new)\n",
    " .pipe(rename_columns)\n",
    " .pipe(sort_columns))\n",
    "\n",
    "df_old = (df_old_data\n",
    " .pipe(start_pipeline)\n",
    " .pipe(strip_chars_old)\n",
    " .pipe(drop_columns_old))"
   ]
  },
  {
   "cell_type": "code",
   "execution_count": 104,
   "metadata": {},
   "outputs": [],
   "source": [
    "\n",
    "df_lower = df\n",
    "df_old_lower = df_old\n",
    "# Values in 'column_a' from df1 but not in 'column_b' from df2\n",
    "only_in_df1 = df.filter(~pl.col(\"Unidade\").str.to_lowercase().is_in(df_old['Unidade'].str.to_lowercase())).with_columns(pl.lit(\"Nova\").alias(\"status\"))\n",
    "\n",
    "# Values in 'column_b' from df2 but not in 'column_a' from df1\n",
    "only_in_df2 = df_old.filter(~pl.col('Unidade').str.to_lowercase().is_in(df[\"Unidade\"].str.to_lowercase())).with_columns(pl.lit(\"Fechou\").alias(\"status\"))\n",
    "\n",
    "# Common values in both dataframes with 'Antigas' status\n",
    "common_in_both = df.filter(pl.col(\"Unidade\").str.to_lowercase().is_in(df_old['Unidade'].str.to_lowercase())).with_columns(pl.lit(\"Antigas\").alias(\"status\"))\n",
    "\n",
    "# Combine the results into one DataFrame\n",
    "df_diff = pl.concat([\n",
    "    only_in_df1.rename({\"Unidade\": \"value\"}),\n",
    "    only_in_df2.rename({\"Unidade\": \"value\"}),\n",
    "    common_in_both.rename({\"Unidade\": \"value\"})\n",
    "])\n",
    "\n"
   ]
  },
  {
   "cell_type": "code",
   "execution_count": 105,
   "metadata": {},
   "outputs": [
    {
     "data": {
      "text/html": [
       "<div><style>\n",
       ".dataframe > thead > tr,\n",
       ".dataframe > tbody > tr {\n",
       "  text-align: right;\n",
       "  white-space: pre-wrap;\n",
       "}\n",
       "</style>\n",
       "<small>shape: (303, 7)</small><table border=\"1\" class=\"dataframe\"><thead><tr><th>value</th><th>Endereço</th><th>Município</th><th>UF</th><th>LAT</th><th>LONG</th><th>status</th></tr><tr><td>str</td><td>str</td><td>str</td><td>str</td><td>f64</td><td>f64</td><td>str</td></tr></thead><tbody><tr><td>&quot;Assaí Zona Norte&quot;</td><td>&quot;Rua Tancredo Neves, 528&quot;</td><td>&quot;Macapá&quot;</td><td>&quot;AP&quot;</td><td>0.06762</td><td>-51.05688</td><td>&quot;Nova&quot;</td></tr><tr><td>&quot;Assaí Manaus Bola da Suframa&quot;</td><td>&quot;Rua Francisco Pereira da Silva…</td><td>&quot;Manaus&quot;</td><td>&quot;AM&quot;</td><td>-3.131969</td><td>-59.985704</td><td>&quot;Nova&quot;</td></tr><tr><td>&quot;Assaí Salvador Paralela&quot;</td><td>&quot;Avenida Governador Luis Viana …</td><td>&quot;Salvador&quot;</td><td>&quot;BA&quot;</td><td>-12.96494</td><td>-38.43848</td><td>&quot;Nova&quot;</td></tr><tr><td>&quot;Assaí Cais do Porto&quot;</td><td>&quot;Av. José Sabóia, 521&quot;</td><td>&quot;Fortaleza&quot;</td><td>&quot;CE&quot;</td><td>-3.71718</td><td>-38.46671</td><td>&quot;Nova&quot;</td></tr><tr><td>&quot;Assaí Montese&quot;</td><td>&quot;Avenida Dos Expedicionários, 4…</td><td>&quot;Fortaleza&quot;</td><td>&quot;CE&quot;</td><td>-3.753169</td><td>-38.537952</td><td>&quot;Nova&quot;</td></tr><tr><td>&hellip;</td><td>&hellip;</td><td>&hellip;</td><td>&hellip;</td><td>&hellip;</td><td>&hellip;</td><td>&hellip;</td></tr><tr><td>&quot;Assaí Taboão da Serra&quot;</td><td>&quot;Rodovia Regis Bittencourt, 340&quot;</td><td>&quot;Taboão da Serra&quot;</td><td>&quot;SP&quot;</td><td>-23.613221</td><td>-46.781066</td><td>&quot;Antigas&quot;</td></tr><tr><td>&quot;Assaí Marginal Tietê - Tatuapé&quot;</td><td>&quot;Rua Ulisses Cruz, nº 993&quot;</td><td>&quot;Tatuapé&quot;</td><td>&quot;SP&quot;</td><td>-23.529796</td><td>-46.578482</td><td>&quot;Antigas&quot;</td></tr><tr><td>&quot;Assaí Taubaté&quot;</td><td>&quot;Avenida Dom Pedro I, 630 E,&quot;</td><td>&quot;Taubaté&quot;</td><td>&quot;SP&quot;</td><td>-23.024431</td><td>-45.55644</td><td>&quot;Antigas&quot;</td></tr><tr><td>&quot;Assaí Palmas&quot;</td><td>&quot;Avenida Joaquim Teotônio Segur…</td><td>&quot;Palmas&quot;</td><td>&quot;TO&quot;</td><td>-10.250802</td><td>-48.333348</td><td>&quot;Antigas&quot;</td></tr><tr><td>&quot;Assaí Palmas II&quot;</td><td>&quot;Ac. Q. 402 Sul Avenida Ns 2,&quot;</td><td>&quot;Palmas&quot;</td><td>&quot;TO&quot;</td><td>-10.207782</td><td>-48.330219</td><td>&quot;Antigas&quot;</td></tr></tbody></table></div>"
      ],
      "text/plain": [
       "shape: (303, 7)\n",
       "┌───────────────────┬──────────────────┬─────────────────┬─────┬────────────┬────────────┬─────────┐\n",
       "│ value             ┆ Endereço         ┆ Município       ┆ UF  ┆ LAT        ┆ LONG       ┆ status  │\n",
       "│ ---               ┆ ---              ┆ ---             ┆ --- ┆ ---        ┆ ---        ┆ ---     │\n",
       "│ str               ┆ str              ┆ str             ┆ str ┆ f64        ┆ f64        ┆ str     │\n",
       "╞═══════════════════╪══════════════════╪═════════════════╪═════╪════════════╪════════════╪═════════╡\n",
       "│ Assaí Zona Norte  ┆ Rua Tancredo     ┆ Macapá          ┆ AP  ┆ 0.06762    ┆ -51.05688  ┆ Nova    │\n",
       "│                   ┆ Neves, 528       ┆                 ┆     ┆            ┆            ┆         │\n",
       "│ Assaí Manaus Bola ┆ Rua Francisco    ┆ Manaus          ┆ AM  ┆ -3.131969  ┆ -59.985704 ┆ Nova    │\n",
       "│ da Suframa        ┆ Pereira da       ┆                 ┆     ┆            ┆            ┆         │\n",
       "│                   ┆ Silva…           ┆                 ┆     ┆            ┆            ┆         │\n",
       "│ Assaí Salvador    ┆ Avenida          ┆ Salvador        ┆ BA  ┆ -12.96494  ┆ -38.43848  ┆ Nova    │\n",
       "│ Paralela          ┆ Governador Luis  ┆                 ┆     ┆            ┆            ┆         │\n",
       "│                   ┆ Viana …          ┆                 ┆     ┆            ┆            ┆         │\n",
       "│ Assaí Cais do     ┆ Av. José Sabóia, ┆ Fortaleza       ┆ CE  ┆ -3.71718   ┆ -38.46671  ┆ Nova    │\n",
       "│ Porto             ┆ 521              ┆                 ┆     ┆            ┆            ┆         │\n",
       "│ Assaí Montese     ┆ Avenida Dos      ┆ Fortaleza       ┆ CE  ┆ -3.753169  ┆ -38.537952 ┆ Nova    │\n",
       "│                   ┆ Expedicionários, ┆                 ┆     ┆            ┆            ┆         │\n",
       "│                   ┆ 4…               ┆                 ┆     ┆            ┆            ┆         │\n",
       "│ …                 ┆ …                ┆ …               ┆ …   ┆ …          ┆ …          ┆ …       │\n",
       "│ Assaí Taboão da   ┆ Rodovia Regis    ┆ Taboão da Serra ┆ SP  ┆ -23.613221 ┆ -46.781066 ┆ Antigas │\n",
       "│ Serra             ┆ Bittencourt, 340 ┆                 ┆     ┆            ┆            ┆         │\n",
       "│ Assaí Marginal    ┆ Rua Ulisses      ┆ Tatuapé         ┆ SP  ┆ -23.529796 ┆ -46.578482 ┆ Antigas │\n",
       "│ Tietê - Tatuapé   ┆ Cruz, nº 993     ┆                 ┆     ┆            ┆            ┆         │\n",
       "│ Assaí Taubaté     ┆ Avenida Dom      ┆ Taubaté         ┆ SP  ┆ -23.024431 ┆ -45.55644  ┆ Antigas │\n",
       "│                   ┆ Pedro I, 630 E,  ┆                 ┆     ┆            ┆            ┆         │\n",
       "│ Assaí Palmas      ┆ Avenida Joaquim  ┆ Palmas          ┆ TO  ┆ -10.250802 ┆ -48.333348 ┆ Antigas │\n",
       "│                   ┆ Teotônio Segur…  ┆                 ┆     ┆            ┆            ┆         │\n",
       "│ Assaí Palmas II   ┆ Ac. Q. 402 Sul   ┆ Palmas          ┆ TO  ┆ -10.207782 ┆ -48.330219 ┆ Antigas │\n",
       "│                   ┆ Avenida Ns 2,    ┆                 ┆     ┆            ┆            ┆         │\n",
       "└───────────────────┴──────────────────┴─────────────────┴─────┴────────────┴────────────┴─────────┘"
      ]
     },
     "execution_count": 105,
     "metadata": {},
     "output_type": "execute_result"
    }
   ],
   "source": [
    "df_diff"
   ]
  },
  {
   "cell_type": "code",
   "execution_count": 106,
   "metadata": {},
   "outputs": [
    {
     "data": {
      "text/plain": [
       "<xlsxwriter.workbook.Workbook at 0x19be891a6f0>"
      ]
     },
     "execution_count": 106,
     "metadata": {},
     "output_type": "execute_result"
    }
   ],
   "source": [
    "# df_diff = df.filter(~pl.col(\"column_a\").is_in(pl.col(\"column_b\")))\n",
    "df.write_excel(\"lojasAssai.xlsx\", worksheet='lojasSite')\n",
    "df_diff.write_excel(\"lojasAssaiDiff.xlsx\", worksheet='lojasSite')\n"
   ]
  },
  {
   "cell_type": "code",
   "execution_count": 107,
   "metadata": {},
   "outputs": [
    {
     "data": {
      "text/plain": [
       "<xlsxwriter.workbook.Workbook at 0x19be88e42f0>"
      ]
     },
     "execution_count": 107,
     "metadata": {},
     "output_type": "execute_result"
    }
   ],
   "source": [
    "import polars as pl\n",
    "from geopy.distance import great_circle\n",
    "\n",
    "# Create lists for the new columns, initialized with None for all rows\n",
    "closest_values_old = [None] * df_diff.height\n",
    "closest_distances_old = [None] * df_diff.height\n",
    "closest_values_all = [None] * df_diff.height\n",
    "closest_distances_all = [None] * df_diff.height\n",
    "\n",
    "\n",
    "# Filter for \"Antigo\" values\n",
    "nova_df = df_diff.filter(pl.col(\"status\") == \"Nova\")\n",
    "antigo_df = df_diff.filter(pl.col(\"status\") == \"Antigas\")\n",
    "\n",
    "# Iterate through each \"Antigo\" row\n",
    "for index, row in enumerate(nova_df.iter_rows(named=True)):\n",
    "    current_coords = (row[\"LAT\"], row[\"LONG\"])\n",
    "    # Calculate distances to other \"Antigo\" values\n",
    "    distances_old = [\n",
    "        (other_row[\"value\"], great_circle(current_coords, (other_row[\"LAT\"], other_row[\"LONG\"])).kilometers)\n",
    "        for other_row in antigo_df.iter_rows(named=True)\n",
    "        if other_row[\"value\"] != row[\"value\"]  # Skip itself\n",
    "    ]\n",
    "    # Find the closest \"Antigo\" value\n",
    "    if distances_old:\n",
    "        closest_value_old, min_distance_old = min(distances_old, key=lambda x: x[1])\n",
    "        closest_values_old[index] = closest_value_old  # Set in the original position\n",
    "        closest_distances_old[index] = min_distance_old\n",
    "    # No need to append since we already initialized with None\n",
    "\n",
    "# Iterate through each \"Antigo\" row\n",
    "for index, row in enumerate(df_diff.iter_rows(named=True)):\n",
    "    current_coords = (row[\"LAT\"], row[\"LONG\"])\n",
    "    # Calculate distances to other \"Antigo\" values\n",
    "    distances_all = [\n",
    "        (other_row[\"value\"], great_circle(current_coords, (other_row[\"LAT\"], other_row[\"LONG\"])).kilometers)\n",
    "        for other_row in df_diff.iter_rows(named=True)\n",
    "        if other_row[\"value\"] != row[\"value\"]  # Skip itself\n",
    "    ]\n",
    "    # Find the closest \"Antigo\" value\n",
    "    if distances_all:\n",
    "        closest_value_all, min_distance_all = min(distances_all, key=lambda x: x[1])\n",
    "        closest_values_all[index] = closest_value_all  # Set in the original position\n",
    "        closest_distances_all[index] = min_distance_all\n",
    "    # No need to append since we already initialized with None\n",
    "\n",
    "\n",
    "# Add the new columns to the original DataFrame\n",
    "df_diff = df_diff.with_columns([\n",
    "    pl.Series(\"closest_value_old\", closest_values_old),\n",
    "    pl.Series(\"closest_distance_old\", closest_distances_old)\n",
    "])\n",
    "\n",
    "df_diff = df_diff.with_columns([\n",
    "    pl.Series(\"closest_value_all\", closest_values_all),\n",
    "    pl.Series(\"closest_distance_all\", closest_distances_all)\n",
    "])\n",
    "\n",
    "\n",
    "df_diff.write_excel(\"lojasAssaiMenorDistancia_Test.xlsx\", worksheet='lojasSite')\n",
    "\n"
   ]
  },
  {
   "cell_type": "code",
   "execution_count": 108,
   "metadata": {},
   "outputs": [
    {
     "data": {
      "application/vnd.plotly.v1+json": {
       "config": {
        "plotlyServerURL": "https://plot.ly"
       },
       "data": [
        {
         "hovertemplate": "<b>%{hovertext}</b><br><br>status=Nova<br>dummy_column_for_size=%{marker.size}<br>LAT=%{lat}<br>LONG=%{lon}<extra></extra>",
         "hovertext": [
          "Assaí Zona Norte",
          "Assaí Manaus Bola da Suframa",
          "Assaí Salvador Paralela",
          "Assaí Cais do Porto",
          "Assaí Montese",
          "Assaí Iguatu",
          "Assaí Serra",
          "Assaí Vitória Aeroporto",
          "Assaí Angelim",
          "Assaí Santa Rosa",
          "Assaí Gunter Hans",
          "Assaí Joaquim Murtinho",
          "Assaí Minas Shopping",
          "Assaí Santa Efigênia",
          "Assaí Juiz de Fora",
          "Assaí Foz do Iguaçu",
          "Assaí Olinda",
          "Assaí Benfica",
          "Assaí Mossoró",
          "Assaí Ponta Negra",
          "Assaí Duque de Caxias Parque Fluminense",
          "Assaí Niterói Ponte",
          "Assaí Nova Iguaçu Via Light",
          "Assaí Avenida Maracanã",
          "Assaí Bangu (Av. Brasil)",
          "Assaí Boulevard",
          "Assaí Galeão",
          "Assaí Tijuca Mariz e Barros",
          "Assaí Raul Veiga",
          "Assai Itabaiana",
          "Assaí Barueri",
          "Assaí Guarulhos Centro",
          "Assaí Guarulhos Pimentas",
          "Assaí Limeira Anel Viário",
          "Assaí Anchieta Paulicéia",
          "Assaí Cidade Tiradentes",
          "Assaí Cotia Centro",
          "Assaí João Dias",
          "Assaí Marginal Tietê Vila Maria",
          "Assaí Mooca",
          "Assaí São José dos Campos Colinas"
         ],
         "lat": [
          0.06762,
          -3.131969,
          -12.96494,
          -3.71718,
          -3.753169,
          -20.457593,
          -20.19678,
          -20.255622,
          -2.53432,
          -15.58743,
          -20.534346,
          -20.47013,
          -19.874453,
          -19.921817,
          -21.755411,
          -25.50987,
          -8.008437,
          -8.0592,
          -5.156272,
          -5.858562,
          -22.7259,
          -22.883342,
          -22.753023,
          -22.927272,
          -22.856417,
          -22.919393,
          -22.804561,
          -22.918128,
          -22.820851,
          -10.67701,
          -23.503313,
          -23.473387,
          -23.450335,
          -22.58763,
          -23.668892,
          -23.57798,
          -23.601629,
          -23.647096,
          -23.5225,
          -23.553986,
          -23.206373
         ],
         "legendgroup": "Nova",
         "lon": [
          -51.05688,
          -59.985704,
          -38.43848,
          -38.46671,
          -38.537952,
          -54.665889,
          -40.268,
          -40.2894,
          -44.23031,
          -56.11717,
          -54.662539,
          -54.58431,
          -43.926228,
          -43.928747,
          -43.345196,
          -54.575121,
          -34.879013,
          -34.90535,
          -37.363862,
          -35.195965,
          -43.313,
          -43.113063,
          -43.462828,
          -43.2393755,
          -43.477143,
          -43.243732,
          -43.206459,
          -43.221978,
          -42.999547,
          -37.442282,
          -46.864383,
          -46.526916,
          -46.406478,
          -47.387691,
          -46.576016,
          -46.41465,
          -46.9118,
          -46.727638,
          -46.60177,
          -46.600447,
          -45.905085
         ],
         "marker": {
          "color": "#636efa",
          "size": [
           1,
           1,
           1,
           1,
           1,
           1,
           1,
           1,
           1,
           1,
           1,
           1,
           1,
           1,
           1,
           1,
           1,
           1,
           1,
           1,
           1,
           1,
           1,
           1,
           1,
           1,
           1,
           1,
           1,
           1,
           1,
           1,
           1,
           1,
           1,
           1,
           1,
           1,
           1,
           1,
           1
          ],
          "sizemode": "area",
          "sizeref": 0.01
         },
         "mode": "markers",
         "name": "Nova",
         "showlegend": true,
         "subplot": "mapbox",
         "type": "scattermapbox"
        },
        {
         "hovertemplate": "<b>%{hovertext}</b><br><br>status=Fechou<br>dummy_column_for_size=%{marker.size}<br>LAT=%{lat}<br>LONG=%{lon}<extra></extra>",
         "hovertext": [
          "Assaí Iguatú",
          "Assaí Mariz e Barros",
          "Assaí Tijuca",
          "Assaí Anchieta Pulicéia",
          "Assaí Guarulhos Dutra",
          "Assaí Itabaiana"
         ],
         "lat": [
          -6.352546,
          -22.9183902,
          -22.9293625,
          -23.6688917,
          -23.4762179,
          -10.6772058
         ],
         "legendgroup": "Fechou",
         "lon": [
          -39.306754,
          -43.2221494,
          -43.2414068,
          -46.5760158,
          -46.5297787,
          -37.4422358
         ],
         "marker": {
          "color": "#EF553B",
          "size": [
           1,
           1,
           1,
           1,
           1,
           1
          ],
          "sizemode": "area",
          "sizeref": 0.01
         },
         "mode": "markers",
         "name": "Fechou",
         "showlegend": true,
         "subplot": "mapbox",
         "type": "scattermapbox"
        },
        {
         "hovertemplate": "<b>%{hovertext}</b><br><br>status=Antigas<br>dummy_column_for_size=%{marker.size}<br>LAT=%{lat}<br>LONG=%{lon}<extra></extra>",
         "hovertext": [
          "Assaí Rio Branco",
          "Assaí Arapiraca",
          "Assaí Maceió Farol",
          "Assaí Maceió Mangabeiras",
          "Assaí Menino Marcelo",
          "Assaí Tabuleiro",
          "Assaí Macapá",
          "Assaí Manaus Grande Circular",
          "Assaí Manaus II",
          "Assaí Manaus Torquato",
          "Assaí Barreiras",
          "Assaí Camaçari",
          "Assaí Feira de Santana",
          "Assaí Tomba",
          "Assaí Guanambi",
          "Assaí Ilhéus",
          "Assaí Itapetinga",
          "Assaí Jequié",
          "Assaí Juazeiro da Bahia",
          "Assaí Lauro de Freitas",
          "Assaí Paulo Afonso",
          "Assaí Barris",
          "Assaí Cabula",
          "Assaí Cidade Baixa",
          "Assaí Golf Club",
          "Assaí Paripe",
          "Assaí Rótula do Abacaxi",
          "Assaí Salvador Mussurunga",
          "Assaí Vasco da Gama",
          "Assaí Senhor do Bonfim",
          "Assaí Serrinha",
          "Assaí Teixeira De Freitas",
          "Assaí Vitória da Conquista",
          "Assaí Caucaia",
          "Assaí Bezerra M (Fortaleza)",
          "Assaí Cidade dos Funcionários",
          "Assaí Joquei Clube",
          "Assaí Kennedy",
          "Assaí Mister Hull",
          "Assaí Parangaba",
          "Assaí Tapioqueiras",
          "Assaí Washington Soares",
          "Assaí Juazeiro do Norte",
          "Assaí Maracanaú",
          "Assaí Sobral",
          "Assaí Brasília Norte",
          "Assaí Brasília Park",
          "Assaí Brasília Sia",
          "Assaí Taguatinga",
          "Assaí Taguatinga Shopping",
          "Assaí Ceilândia",
          "Assaí Anápolis",
          "Assaí Caldas Novas",
          "Assaí Goiânia Buritis",
          "Assaí Goiânia Perimetral",
          "Assaí Goiânia Portugal",
          "Assaí Goiânia T9",
          "Assaí Independência",
          "Assaí Rio Verde",
          "Assaí Valparaíso",
          "Assaí Imperatriz",
          "Assaí Guajajaras",
          "Assaí São Luis Turu",
          "Assaí Coxipó",
          "Assaí Jardim das Américas",
          "Assaí Rondonópolis",
          "Assaí Rondonópolis Bandeirantes",
          "Assaí Sinop",
          "Assaí Cristo Rei",
          "Assaí Acrissul",
          "Assaí Campo Grande Aeroporto",
          "Assaí Coronel Antonino",
          "Assaí Dourados",
          "Assaí Belvedere",
          "Assaí Betim",
          "Assaí Contagem",
          "Assaí Ipatinga",
          "Assaí Sete Lagoas",
          "Assaí Uberlândia",
          "Assaí Atuba",
          "Assaí Curitiba",
          "Assaí Curitiba Av. XV",
          "Assaí Curitiba JK",
          "Assaí Curitiba Kennedy",
          "Assaí Londrina",
          "Assaí Londrina II",
          "Assaí Maringá",
          "Assaí Maringá Seminário",
          "Assaí Cabedelo",
          "Assaí Campina Grande",
          "Assaí Campina Grande Mirante",
          "Assaí Epitácio Pessoa",
          "Assaí João Pessoa",
          "Assaí Ananindeua",
          "Assaí Batista Campos",
          "Assaí Belém",
          "Assaí Belém Almirante",
          "Assaí Castanhal",
          "Assaí Parauapebas",
          "Assaí Santarém",
          "Assaí Cabo de Santo Agostinho",
          "Assaí Camaragibe",
          "Assaí Caruaru",
          "Assaí Caruaru II",
          "Assaí Garanhuns",
          "Assaí Jaboatão",
          "Assaí Paulista",
          "Assaí Petrolina",
          "Assaí Avenida Recife",
          "Assaí Boa Viagem",
          "Assaí Imbiribeira",
          "Assaí Serra Talhada",
          "Assaí Parnaíba",
          "Assaí Picos",
          "Assaí Raul Lopes",
          "Assaí Teresina",
          "Assaí Teresina Kennedy",
          "Assaí Natal",
          "Assaí São Gonçalo do Amarante",
          "Assaí Maria Lacerda",
          "Assaí Araruama",
          "Assaí Cabo Frio",
          "Assaí Campos dos Goytacazes",
          "Assaí Duque de Caxias",
          "Assaí Freguesia (Jacarepaguá)",
          "Assaí Macaé Obelisco",
          "Assaí Rio Dutra",
          "Assaí Nilópolis",
          "Assaí Niterói",
          "Assaí Nova Iguaçu",
          "Assaí Petrópolis",
          "Assaí Ayrton Senna",
          "Assaí Bangu",
          "Assaí Barra da Tijuca",
          "Assaí Campinho",
          "Assaí Carioca",
          "Assaí Ceasa",
          "Assaí Cesário de Melo (Campo Grande)",
          "Assaí Cordovil",
          "Assaí Ilha do Governador",
          "Assaí Méier",
          "Assaí Mendanha",
          "Assaí Pilares",
          "Assaí Sabão Português",
          "Assaí Santa Cruz",
          "Assaí Alcântara",
          "Assaí São Gonçalo",
          "Assaí São Gonçalo Centro",
          "Assaí Tribobó",
          "Assaí São João de Meriti",
          "Assaí Porto Velho",
          "Assaí Porto Velho Imigrantes",
          "Assaí Boa Vista",
          "Assaí Adélia Franco",
          "Assaí Aracaju",
          "Assaí Aracaju Sul",
          "Assaí Nossa Senhora do Socorro",
          "Assaí Araraquara",
          "Assaí Araçatuba",
          "Assaí Bauru",
          "Assaí Amoreiras",
          "Assaí Campinas",
          "Assaí Campinas Abolição",
          "Assaí Caraguatatuba",
          "Assaí Carapicuíba",
          "Assaí Cotia",
          "Assaí Diadema Piraporinha",
          "Assaí Embu das Artes",
          "Assaí Franco da Rocha",
          "Assaí Guarulhos B. Maia",
          "Assaí Guarulhos Jamil",
          "Assaí Hortolândia",
          "Assaí Indaiatuba",
          "Assaí Itaquaquecetuba",
          "Assaí Itatiba",
          "Assaí Jandira",
          "Assaí Jundiaí",
          "Assaí Jundiaí Ferroviários",
          "Assaí Limeira",
          "Assaí Shop. Mauá",
          "Assaí Brás Cubas",
          "Assaí Mogi das Cruzes",
          "Assaí Mogilar",
          "Assaí Osasco",
          "Assaí Paulínia",
          "Assaí Piracicaba",
          "Assaí Piracicaba Nova América",
          "Assaí PG Litoral Plaza",
          "Assaí Praia Grande",
          "Assaí Praia Grande II",
          "Assaí Presidente Prudente",
          "Assaí Ribeirão Pires",
          "Assaí Ribeirão Preto",
          "Assaí Ribeirão Preto Imigrantes",
          "Assaí Ribeirão Preto Rotatória",
          "Assaí Ribeirão Preto Vargas",
          "Assaí Rio Claro",
          "Assaí Santa Bárbara do Oeste",
          "Assaí Bala Juquinha",
          "Assaí Giovanni Pirelli",
          "Assaí Santo André",
          "Assaí Santo André - Pereira Barreto",
          "Assaí Vila Luzita",
          "Assaí Santos",
          "Assaí Santos Ana Costa",
          "Assaí Sorocaba (Itavuvu)",
          "Assaí Sorocaba Campolim",
          "Assaí Sorocaba Santa Rosália",
          "Assaí Suzano",
          "Assaí São Bernardo",
          "Assaí São Bernardo Anchieta",
          "Assaí São Caetano do Sul",
          "Assaí São José dos Campos",
          "Assaí Águia de Haia",
          "Assaí Aeroporto Congonhas",
          "Assaí Anhanguera",
          "Assaí Aricanduva",
          "Assaí Barra Funda",
          "Assaí Casa Verde",
          "Assaí Cidade Dutra",
          "Assaí Fernão Dias",
          "Assaí Freguesia do Ó",
          "Assaí Guaianases",
          "Assaí Guaianases Estação",
          "Assaí Interlagos",
          "Assaí Itapevi",
          "Assaí Itaquera",
          "Assaí Jaçanã",
          "Assaí Jabaquara",
          "Assaí Jacu Pêssego",
          "Assaí Jaguaré",
          "Assaí Jaguaré Corifeu",
          "Assaí Jaraguá/Taipas",
          "Assaí Nações Unidas",
          "Assaí Nordestina",
          "Assaí Penha - Marginal Tietê",
          "Assaí Penha Tiquatira",
          "Assaí Raposo Tavares",
          "Assaí São Mateus",
          "Assaí São Miguel",
          "Assaí São Miguel II",
          "Assaí Santa Catarina",
          "Assaí Sapopemba",
          "Assaí Sezefredo Fagundes",
          "Assaí Tancredo Neves",
          "Assaí Teotônio Vilela",
          "Assaí Vila Carrão",
          "Assaí Vila Sônia",
          "Assaí São Vicente",
          "Assaí Pirajussara",
          "Assaí Taboão Centro",
          "Assaí Taboão da Serra",
          "Assaí Marginal Tietê - Tatuapé",
          "Assaí Taubaté",
          "Assaí Palmas",
          "Assaí Palmas II"
         ],
         "lat": [
          -9.983582,
          -9.750492,
          -9.612523,
          -9.645636,
          -9.613321,
          -9.570546,
          -21.794257,
          -3.039617,
          -3.084143,
          -3.053625,
          -12.142296,
          -12.705699,
          -12.234677,
          -12.231818,
          -14.198669,
          -14.853193,
          -21.792982,
          -13.849194,
          -9.425768,
          -12.898943,
          -9.399732,
          -12.985483,
          -12.961527,
          -12.940154,
          -12.91541,
          -12.845124,
          -12.970436,
          -12.914583,
          -12.9991,
          -10.465069,
          -21.974404,
          -17.537501,
          -14.84683,
          -3.740834,
          -3.731521,
          -3.790988,
          -3.768879,
          -3.728226,
          -3.736325,
          -3.778641,
          -3.84058,
          -3.800384,
          -7.22674,
          -3.851611,
          -3.706588,
          -15.733992,
          -15.834223,
          -15.794704,
          -21.794257,
          -15.835678,
          -15.821498,
          -21.758563,
          -17.721371,
          -16.729536,
          -16.650884,
          -16.692575,
          -16.71033,
          -16.663072,
          -17.807692,
          -16.079408,
          -5.488992,
          -21.946501,
          -2.499676,
          -15.630102,
          -15.60819,
          -16.466385,
          -16.449301,
          -11.852774,
          -15.639299,
          -20.489879,
          -20.457593,
          -20.431939,
          -22.249694,
          -19.97429,
          -19.957615,
          -19.936917,
          -19.485133,
          -19.466272,
          -18.930362,
          -25.39095,
          -25.514484,
          -25.447629,
          -25.454856,
          -25.453052,
          -23.292975,
          -23.25914,
          -23.424105,
          -23.418386,
          -7.088823,
          -7.237757,
          -7.234129,
          -7.11933,
          -7.172674,
          -1.366274,
          -1.463966,
          -1.359051,
          -2.02793,
          -1.295135,
          -21.805113,
          -21.811683,
          -8.291225,
          -8.019673,
          -8.283161,
          -21.84819,
          -8.875228,
          -8.170934,
          -7.918127,
          -9.380454,
          -8.077228,
          -8.104634,
          -8.100924,
          -7.984662,
          -21.810514,
          -22.002862,
          -5.060075,
          -5.10919,
          -5.078338,
          -5.866983,
          -5.771151,
          -5.883533,
          -22.858827,
          -22.890185,
          -21.879355,
          -22.776542,
          -22.940776,
          -22.345509,
          -21.831933,
          -22.804375,
          -22.877645,
          -22.762351,
          -22.468502,
          -22.960839,
          -22.879658,
          -23.001891,
          -22.881326,
          -22.849869,
          -22.827286,
          -22.906593,
          -22.818079,
          -22.803149,
          -22.904494,
          -22.86431,
          -22.883813,
          -22.885381,
          -22.891011,
          -22.820066,
          -22.845075,
          -22.826275,
          -19.466272,
          -22.798897,
          -21.794682,
          -8.731205,
          2.800786,
          -10.948019,
          -10.907129,
          -21.798083,
          -10.846581,
          -21.78999,
          -21.205883,
          -22.31701,
          -22.944982,
          -22.903911,
          -22.926235,
          -23.624733,
          -23.521825,
          -23.600256,
          -23.689322,
          -23.651558,
          -23.3344,
          -23.454849,
          -23.427285,
          -22.863508,
          -21.81373,
          -23.50685,
          -23.018257,
          -23.52887,
          -23.191075,
          -23.176602,
          -22.561438,
          -23.6637,
          -23.543285,
          -23.511712,
          -23.512478,
          -23.540651,
          -22.774415,
          -22.720401,
          -22.740199,
          -23.996387,
          -24.031913,
          -24.004524,
          -22.13806,
          -23.703437,
          -21.202058,
          -21.188129,
          -21.174614,
          -21.203039,
          -22.415213,
          -22.746895,
          -23.619548,
          -23.665698,
          -23.652679,
          -23.68377,
          -23.704,
          -23.93087,
          -23.957779,
          -23.468999,
          -23.530145,
          -23.491095,
          -23.538927,
          -23.689236,
          -23.688945,
          -23.613882,
          -23.228215,
          -23.523142,
          -23.628646,
          -23.517199,
          -23.5631,
          -23.519656,
          -23.498628,
          -23.726365,
          -23.467832,
          -23.505356,
          -23.526843,
          -23.542258,
          -23.663383,
          -23.546431,
          -23.553196,
          -23.467191,
          -23.641707,
          -23.565317,
          -23.552853,
          -23.556875,
          -23.449862,
          -23.678527,
          -23.510605,
          -23.512795,
          -23.515934,
          -23.584363,
          -23.610402,
          -23.495519,
          -23.501481,
          -23.649655,
          -23.602287,
          -23.472677,
          -23.617824,
          -23.772299,
          -23.551045,
          -23.595196,
          -23.962595,
          -23.64102,
          -23.608467,
          -23.613221,
          -23.529796,
          -23.024431,
          -10.250802,
          -10.207782
         ],
         "legendgroup": "Antigas",
         "lon": [
          -67.847235,
          -36.629773,
          -35.738874,
          -35.714998,
          -35.718555,
          -35.774394,
          -55.721283,
          -59.941656,
          -60.000062,
          -60.025065,
          -44.9824,
          -38.31516,
          -38.975922,
          -38.9584,
          -42.75258,
          -39.0246,
          -55.722656,
          -40.072725,
          -40.506612,
          -38.332027,
          -38.240325,
          -38.515585,
          -38.46958,
          -38.494182,
          -38.443337,
          -38.470138,
          -38.481146,
          -38.369213,
          -38.490213,
          -40.175427,
          -55.662372,
          -39.750037,
          -40.886703,
          -38.606925,
          -38.541325,
          -38.507725,
          -38.642856,
          -38.57095,
          -38.58271,
          -38.564907,
          -38.480795,
          -38.479505,
          -39.347447,
          -38.588003,
          -40.354971,
          -47.900487,
          -47.950509,
          -47.950328,
          -55.721283,
          -48.048586,
          -48.103147,
          -55.748726,
          -48.640064,
          -49.290103,
          -49.317726,
          -49.270224,
          -49.31182,
          -49.256211,
          -50.924531,
          -47.986779,
          -47.473164,
          -55.861344,
          -44.229533,
          -56.0531,
          -56.078426,
          -54.643784,
          -54.6222,
          -55.496359,
          -56.102133,
          -54.621,
          -54.665889,
          -54.5924,
          -54.783465,
          -43.947966,
          -44.1727541,
          -44.059467,
          -42.556392,
          -44.244,
          -48.284806,
          -49.209487,
          -49.290801,
          -49.289626,
          -49.361585,
          -49.270486,
          -51.212794,
          -51.160062,
          -51.900104,
          -51.970497,
          -34.849024,
          -35.88891,
          -35.867355,
          -34.85863,
          -34.871158,
          -48.368671,
          -48.49758,
          -48.429256,
          -50.324609,
          -47.894219,
          -55.707521,
          -55.69931,
          -35.0255648,
          -34.971455,
          -35.967333,
          -55.724879,
          -36.462714,
          -34.91846,
          -34.89439,
          -40.515493,
          -34.93792,
          -34.889698,
          -34.911144,
          -38.301118,
          -55.733643,
          -55.889963,
          -42.80603,
          -42.772868,
          -42.77427,
          -35.21748,
          -35.2667,
          -35.212851,
          -42.328644,
          -42.04847,
          -55.648384,
          -43.307696,
          -43.3431,
          -41.794318,
          -55.736513,
          -43.4183,
          -43.108843,
          -43.4454,
          -43.148609,
          -43.357242,
          -43.4655,
          -43.3254,
          -43.342254,
          -43.3114,
          -43.338618,
          -43.564551,
          -43.287855,
          -43.202801,
          -43.2862,
          -43.548962,
          -43.291208,
          -43.226628,
          -43.676538,
          -43.0041,
          -43.0931,
          -43.052213,
          -44.244,
          -43.357463,
          -55.725403,
          -63.907827,
          -60.698632,
          -37.071057,
          -37.087719,
          -55.718536,
          -37.086934,
          -48.17672,
          -50.446724,
          -49.0688,
          -47.1099,
          -47.06559,
          -47.039738,
          -45.4207,
          -46.828639,
          -46.8583,
          -46.591006,
          -46.850696,
          -46.73678,
          -46.534391,
          -46.497776,
          -47.210991,
          -55.710979,
          -46.345037,
          -46.841537,
          -46.893197,
          -46.876486,
          -46.895763,
          -47.404179,
          -46.459211,
          -46.210988,
          -46.195184,
          -46.188989,
          -46.769536,
          -47.1466,
          -47.6462,
          -47.6472,
          -46.4088,
          -46.4953,
          -46.429581,
          -51.413853,
          -46.397408,
          -47.763409,
          -47.784816,
          -47.79425,
          -47.808771,
          -47.5747,
          -47.366659,
          -46.542058,
          -46.4966,
          -46.526217,
          -46.547399,
          -46.504722,
          -46.356307,
          -46.332246,
          -47.477501,
          -47.464084,
          -47.445099,
          -46.2957,
          -46.573396,
          -46.573754,
          -46.578116,
          -45.908166,
          -46.4751,
          -46.667667,
          -46.726564,
          -46.50663,
          -46.673198,
          -46.664033,
          -46.700617,
          -46.572285,
          -46.68976,
          -46.396466,
          -46.423996,
          -46.680224,
          -46.9469,
          -46.488428,
          -46.584729,
          -46.644191,
          -46.446522,
          -46.742244,
          -46.748359,
          -46.722528,
          -46.695575,
          -46.430522,
          -46.553893,
          -46.51868,
          -46.747152,
          -46.474088,
          -46.434025,
          -46.470277,
          -46.661631,
          -46.511086,
          -46.608557,
          -46.609115,
          -46.719476,
          -46.527482,
          -46.737845,
          -46.380576,
          -46.8048,
          -46.75295,
          -46.781066,
          -46.578482,
          -45.55644,
          -48.333348,
          -48.330219
         ],
         "marker": {
          "color": "#00cc96",
          "size": [
           1,
           1,
           1,
           1,
           1,
           1,
           1,
           1,
           1,
           1,
           1,
           1,
           1,
           1,
           1,
           1,
           1,
           1,
           1,
           1,
           1,
           1,
           1,
           1,
           1,
           1,
           1,
           1,
           1,
           1,
           1,
           1,
           1,
           1,
           1,
           1,
           1,
           1,
           1,
           1,
           1,
           1,
           1,
           1,
           1,
           1,
           1,
           1,
           1,
           1,
           1,
           1,
           1,
           1,
           1,
           1,
           1,
           1,
           1,
           1,
           1,
           1,
           1,
           1,
           1,
           1,
           1,
           1,
           1,
           1,
           1,
           1,
           1,
           1,
           1,
           1,
           1,
           1,
           1,
           1,
           1,
           1,
           1,
           1,
           1,
           1,
           1,
           1,
           1,
           1,
           1,
           1,
           1,
           1,
           1,
           1,
           1,
           1,
           1,
           1,
           1,
           1,
           1,
           1,
           1,
           1,
           1,
           1,
           1,
           1,
           1,
           1,
           1,
           1,
           1,
           1,
           1,
           1,
           1,
           1,
           1,
           1,
           1,
           1,
           1,
           1,
           1,
           1,
           1,
           1,
           1,
           1,
           1,
           1,
           1,
           1,
           1,
           1,
           1,
           1,
           1,
           1,
           1,
           1,
           1,
           1,
           1,
           1,
           1,
           1,
           1,
           1,
           1,
           1,
           1,
           1,
           1,
           1,
           1,
           1,
           1,
           1,
           1,
           1,
           1,
           1,
           1,
           1,
           1,
           1,
           1,
           1,
           1,
           1,
           1,
           1,
           1,
           1,
           1,
           1,
           1,
           1,
           1,
           1,
           1,
           1,
           1,
           1,
           1,
           1,
           1,
           1,
           1,
           1,
           1,
           1,
           1,
           1,
           1,
           1,
           1,
           1,
           1,
           1,
           1,
           1,
           1,
           1,
           1,
           1,
           1,
           1,
           1,
           1,
           1,
           1,
           1,
           1,
           1,
           1,
           1,
           1,
           1,
           1,
           1,
           1,
           1,
           1,
           1,
           1,
           1,
           1,
           1,
           1,
           1,
           1,
           1,
           1,
           1,
           1,
           1,
           1,
           1,
           1,
           1,
           1,
           1,
           1,
           1,
           1,
           1,
           1,
           1,
           1,
           1,
           1
          ],
          "sizemode": "area",
          "sizeref": 0.01
         },
         "mode": "markers",
         "name": "Antigas",
         "showlegend": true,
         "subplot": "mapbox",
         "type": "scattermapbox"
        }
       ],
       "layout": {
        "autosize": true,
        "height": 1080,
        "legend": {
         "itemsizing": "constant",
         "title": {
          "text": "status"
         },
         "tracegroupgap": 0
        },
        "mapbox": {
         "center": {
          "lat": -17.8686786009901,
          "lon": -45.52714211188119
         },
         "domain": {
          "x": [
           0,
           1
          ],
          "y": [
           0,
           1
          ]
         },
         "style": "carto-positron",
         "zoom": 4
        },
        "margin": {
         "b": 0,
         "l": 0,
         "r": 0,
         "t": 0
        },
        "template": {
         "data": {
          "bar": [
           {
            "error_x": {
             "color": "#2a3f5f"
            },
            "error_y": {
             "color": "#2a3f5f"
            },
            "marker": {
             "line": {
              "color": "#E5ECF6",
              "width": 0.5
             },
             "pattern": {
              "fillmode": "overlay",
              "size": 10,
              "solidity": 0.2
             }
            },
            "type": "bar"
           }
          ],
          "barpolar": [
           {
            "marker": {
             "line": {
              "color": "#E5ECF6",
              "width": 0.5
             },
             "pattern": {
              "fillmode": "overlay",
              "size": 10,
              "solidity": 0.2
             }
            },
            "type": "barpolar"
           }
          ],
          "carpet": [
           {
            "aaxis": {
             "endlinecolor": "#2a3f5f",
             "gridcolor": "white",
             "linecolor": "white",
             "minorgridcolor": "white",
             "startlinecolor": "#2a3f5f"
            },
            "baxis": {
             "endlinecolor": "#2a3f5f",
             "gridcolor": "white",
             "linecolor": "white",
             "minorgridcolor": "white",
             "startlinecolor": "#2a3f5f"
            },
            "type": "carpet"
           }
          ],
          "choropleth": [
           {
            "colorbar": {
             "outlinewidth": 0,
             "ticks": ""
            },
            "type": "choropleth"
           }
          ],
          "contour": [
           {
            "colorbar": {
             "outlinewidth": 0,
             "ticks": ""
            },
            "colorscale": [
             [
              0,
              "#0d0887"
             ],
             [
              0.1111111111111111,
              "#46039f"
             ],
             [
              0.2222222222222222,
              "#7201a8"
             ],
             [
              0.3333333333333333,
              "#9c179e"
             ],
             [
              0.4444444444444444,
              "#bd3786"
             ],
             [
              0.5555555555555556,
              "#d8576b"
             ],
             [
              0.6666666666666666,
              "#ed7953"
             ],
             [
              0.7777777777777778,
              "#fb9f3a"
             ],
             [
              0.8888888888888888,
              "#fdca26"
             ],
             [
              1,
              "#f0f921"
             ]
            ],
            "type": "contour"
           }
          ],
          "contourcarpet": [
           {
            "colorbar": {
             "outlinewidth": 0,
             "ticks": ""
            },
            "type": "contourcarpet"
           }
          ],
          "heatmap": [
           {
            "colorbar": {
             "outlinewidth": 0,
             "ticks": ""
            },
            "colorscale": [
             [
              0,
              "#0d0887"
             ],
             [
              0.1111111111111111,
              "#46039f"
             ],
             [
              0.2222222222222222,
              "#7201a8"
             ],
             [
              0.3333333333333333,
              "#9c179e"
             ],
             [
              0.4444444444444444,
              "#bd3786"
             ],
             [
              0.5555555555555556,
              "#d8576b"
             ],
             [
              0.6666666666666666,
              "#ed7953"
             ],
             [
              0.7777777777777778,
              "#fb9f3a"
             ],
             [
              0.8888888888888888,
              "#fdca26"
             ],
             [
              1,
              "#f0f921"
             ]
            ],
            "type": "heatmap"
           }
          ],
          "heatmapgl": [
           {
            "colorbar": {
             "outlinewidth": 0,
             "ticks": ""
            },
            "colorscale": [
             [
              0,
              "#0d0887"
             ],
             [
              0.1111111111111111,
              "#46039f"
             ],
             [
              0.2222222222222222,
              "#7201a8"
             ],
             [
              0.3333333333333333,
              "#9c179e"
             ],
             [
              0.4444444444444444,
              "#bd3786"
             ],
             [
              0.5555555555555556,
              "#d8576b"
             ],
             [
              0.6666666666666666,
              "#ed7953"
             ],
             [
              0.7777777777777778,
              "#fb9f3a"
             ],
             [
              0.8888888888888888,
              "#fdca26"
             ],
             [
              1,
              "#f0f921"
             ]
            ],
            "type": "heatmapgl"
           }
          ],
          "histogram": [
           {
            "marker": {
             "pattern": {
              "fillmode": "overlay",
              "size": 10,
              "solidity": 0.2
             }
            },
            "type": "histogram"
           }
          ],
          "histogram2d": [
           {
            "colorbar": {
             "outlinewidth": 0,
             "ticks": ""
            },
            "colorscale": [
             [
              0,
              "#0d0887"
             ],
             [
              0.1111111111111111,
              "#46039f"
             ],
             [
              0.2222222222222222,
              "#7201a8"
             ],
             [
              0.3333333333333333,
              "#9c179e"
             ],
             [
              0.4444444444444444,
              "#bd3786"
             ],
             [
              0.5555555555555556,
              "#d8576b"
             ],
             [
              0.6666666666666666,
              "#ed7953"
             ],
             [
              0.7777777777777778,
              "#fb9f3a"
             ],
             [
              0.8888888888888888,
              "#fdca26"
             ],
             [
              1,
              "#f0f921"
             ]
            ],
            "type": "histogram2d"
           }
          ],
          "histogram2dcontour": [
           {
            "colorbar": {
             "outlinewidth": 0,
             "ticks": ""
            },
            "colorscale": [
             [
              0,
              "#0d0887"
             ],
             [
              0.1111111111111111,
              "#46039f"
             ],
             [
              0.2222222222222222,
              "#7201a8"
             ],
             [
              0.3333333333333333,
              "#9c179e"
             ],
             [
              0.4444444444444444,
              "#bd3786"
             ],
             [
              0.5555555555555556,
              "#d8576b"
             ],
             [
              0.6666666666666666,
              "#ed7953"
             ],
             [
              0.7777777777777778,
              "#fb9f3a"
             ],
             [
              0.8888888888888888,
              "#fdca26"
             ],
             [
              1,
              "#f0f921"
             ]
            ],
            "type": "histogram2dcontour"
           }
          ],
          "mesh3d": [
           {
            "colorbar": {
             "outlinewidth": 0,
             "ticks": ""
            },
            "type": "mesh3d"
           }
          ],
          "parcoords": [
           {
            "line": {
             "colorbar": {
              "outlinewidth": 0,
              "ticks": ""
             }
            },
            "type": "parcoords"
           }
          ],
          "pie": [
           {
            "automargin": true,
            "type": "pie"
           }
          ],
          "scatter": [
           {
            "fillpattern": {
             "fillmode": "overlay",
             "size": 10,
             "solidity": 0.2
            },
            "type": "scatter"
           }
          ],
          "scatter3d": [
           {
            "line": {
             "colorbar": {
              "outlinewidth": 0,
              "ticks": ""
             }
            },
            "marker": {
             "colorbar": {
              "outlinewidth": 0,
              "ticks": ""
             }
            },
            "type": "scatter3d"
           }
          ],
          "scattercarpet": [
           {
            "marker": {
             "colorbar": {
              "outlinewidth": 0,
              "ticks": ""
             }
            },
            "type": "scattercarpet"
           }
          ],
          "scattergeo": [
           {
            "marker": {
             "colorbar": {
              "outlinewidth": 0,
              "ticks": ""
             }
            },
            "type": "scattergeo"
           }
          ],
          "scattergl": [
           {
            "marker": {
             "colorbar": {
              "outlinewidth": 0,
              "ticks": ""
             }
            },
            "type": "scattergl"
           }
          ],
          "scattermapbox": [
           {
            "marker": {
             "colorbar": {
              "outlinewidth": 0,
              "ticks": ""
             }
            },
            "type": "scattermapbox"
           }
          ],
          "scatterpolar": [
           {
            "marker": {
             "colorbar": {
              "outlinewidth": 0,
              "ticks": ""
             }
            },
            "type": "scatterpolar"
           }
          ],
          "scatterpolargl": [
           {
            "marker": {
             "colorbar": {
              "outlinewidth": 0,
              "ticks": ""
             }
            },
            "type": "scatterpolargl"
           }
          ],
          "scatterternary": [
           {
            "marker": {
             "colorbar": {
              "outlinewidth": 0,
              "ticks": ""
             }
            },
            "type": "scatterternary"
           }
          ],
          "surface": [
           {
            "colorbar": {
             "outlinewidth": 0,
             "ticks": ""
            },
            "colorscale": [
             [
              0,
              "#0d0887"
             ],
             [
              0.1111111111111111,
              "#46039f"
             ],
             [
              0.2222222222222222,
              "#7201a8"
             ],
             [
              0.3333333333333333,
              "#9c179e"
             ],
             [
              0.4444444444444444,
              "#bd3786"
             ],
             [
              0.5555555555555556,
              "#d8576b"
             ],
             [
              0.6666666666666666,
              "#ed7953"
             ],
             [
              0.7777777777777778,
              "#fb9f3a"
             ],
             [
              0.8888888888888888,
              "#fdca26"
             ],
             [
              1,
              "#f0f921"
             ]
            ],
            "type": "surface"
           }
          ],
          "table": [
           {
            "cells": {
             "fill": {
              "color": "#EBF0F8"
             },
             "line": {
              "color": "white"
             }
            },
            "header": {
             "fill": {
              "color": "#C8D4E3"
             },
             "line": {
              "color": "white"
             }
            },
            "type": "table"
           }
          ]
         },
         "layout": {
          "annotationdefaults": {
           "arrowcolor": "#2a3f5f",
           "arrowhead": 0,
           "arrowwidth": 1
          },
          "autotypenumbers": "strict",
          "coloraxis": {
           "colorbar": {
            "outlinewidth": 0,
            "ticks": ""
           }
          },
          "colorscale": {
           "diverging": [
            [
             0,
             "#8e0152"
            ],
            [
             0.1,
             "#c51b7d"
            ],
            [
             0.2,
             "#de77ae"
            ],
            [
             0.3,
             "#f1b6da"
            ],
            [
             0.4,
             "#fde0ef"
            ],
            [
             0.5,
             "#f7f7f7"
            ],
            [
             0.6,
             "#e6f5d0"
            ],
            [
             0.7,
             "#b8e186"
            ],
            [
             0.8,
             "#7fbc41"
            ],
            [
             0.9,
             "#4d9221"
            ],
            [
             1,
             "#276419"
            ]
           ],
           "sequential": [
            [
             0,
             "#0d0887"
            ],
            [
             0.1111111111111111,
             "#46039f"
            ],
            [
             0.2222222222222222,
             "#7201a8"
            ],
            [
             0.3333333333333333,
             "#9c179e"
            ],
            [
             0.4444444444444444,
             "#bd3786"
            ],
            [
             0.5555555555555556,
             "#d8576b"
            ],
            [
             0.6666666666666666,
             "#ed7953"
            ],
            [
             0.7777777777777778,
             "#fb9f3a"
            ],
            [
             0.8888888888888888,
             "#fdca26"
            ],
            [
             1,
             "#f0f921"
            ]
           ],
           "sequentialminus": [
            [
             0,
             "#0d0887"
            ],
            [
             0.1111111111111111,
             "#46039f"
            ],
            [
             0.2222222222222222,
             "#7201a8"
            ],
            [
             0.3333333333333333,
             "#9c179e"
            ],
            [
             0.4444444444444444,
             "#bd3786"
            ],
            [
             0.5555555555555556,
             "#d8576b"
            ],
            [
             0.6666666666666666,
             "#ed7953"
            ],
            [
             0.7777777777777778,
             "#fb9f3a"
            ],
            [
             0.8888888888888888,
             "#fdca26"
            ],
            [
             1,
             "#f0f921"
            ]
           ]
          },
          "colorway": [
           "#636efa",
           "#EF553B",
           "#00cc96",
           "#ab63fa",
           "#FFA15A",
           "#19d3f3",
           "#FF6692",
           "#B6E880",
           "#FF97FF",
           "#FECB52"
          ],
          "font": {
           "color": "#2a3f5f"
          },
          "geo": {
           "bgcolor": "white",
           "lakecolor": "white",
           "landcolor": "#E5ECF6",
           "showlakes": true,
           "showland": true,
           "subunitcolor": "white"
          },
          "hoverlabel": {
           "align": "left"
          },
          "hovermode": "closest",
          "mapbox": {
           "style": "light"
          },
          "paper_bgcolor": "white",
          "plot_bgcolor": "#E5ECF6",
          "polar": {
           "angularaxis": {
            "gridcolor": "white",
            "linecolor": "white",
            "ticks": ""
           },
           "bgcolor": "#E5ECF6",
           "radialaxis": {
            "gridcolor": "white",
            "linecolor": "white",
            "ticks": ""
           }
          },
          "scene": {
           "xaxis": {
            "backgroundcolor": "#E5ECF6",
            "gridcolor": "white",
            "gridwidth": 2,
            "linecolor": "white",
            "showbackground": true,
            "ticks": "",
            "zerolinecolor": "white"
           },
           "yaxis": {
            "backgroundcolor": "#E5ECF6",
            "gridcolor": "white",
            "gridwidth": 2,
            "linecolor": "white",
            "showbackground": true,
            "ticks": "",
            "zerolinecolor": "white"
           },
           "zaxis": {
            "backgroundcolor": "#E5ECF6",
            "gridcolor": "white",
            "gridwidth": 2,
            "linecolor": "white",
            "showbackground": true,
            "ticks": "",
            "zerolinecolor": "white"
           }
          },
          "shapedefaults": {
           "line": {
            "color": "#2a3f5f"
           }
          },
          "ternary": {
           "aaxis": {
            "gridcolor": "white",
            "linecolor": "white",
            "ticks": ""
           },
           "baxis": {
            "gridcolor": "white",
            "linecolor": "white",
            "ticks": ""
           },
           "bgcolor": "#E5ECF6",
           "caxis": {
            "gridcolor": "white",
            "linecolor": "white",
            "ticks": ""
           }
          },
          "title": {
           "x": 0.05
          },
          "xaxis": {
           "automargin": true,
           "gridcolor": "white",
           "linecolor": "white",
           "ticks": "",
           "title": {
            "standoff": 15
           },
           "zerolinecolor": "white",
           "zerolinewidth": 2
          },
          "yaxis": {
           "automargin": true,
           "gridcolor": "white",
           "linecolor": "white",
           "ticks": "",
           "title": {
            "standoff": 15
           },
           "zerolinecolor": "white",
           "zerolinewidth": 2
          }
         }
        }
       }
      }
     },
     "metadata": {},
     "output_type": "display_data"
    }
   ],
   "source": [
    "import pandas as pd\n",
    "import plotly.express as px\n",
    "\n",
    "df_diff = df_diff.with_columns(\n",
    "    dummy_column_for_size = 1.\n",
    ")\n",
    "# Create the scatter mapbox\n",
    "fig = px.scatter_mapbox(df_diff, \n",
    "                        lat=\"LAT\", \n",
    "                        lon=\"LONG\", \n",
    "                        hover_name=\"value\",  # Shows when hovering over points\n",
    "                        zoom=4,  # Zoom level\n",
    "                        height=600,\n",
    "                        \n",
    "                        color='status',\n",
    "                        size='dummy_column_for_size',\n",
    "                        size_max=10,)\n",
    "\n",
    "# Set mapbox style and access token (you can use 'open-street-map' without a token)\n",
    "fig.update_layout(mapbox_style=\"open-street-map\")\n",
    "fig.update_layout(mapbox_style=\"carto-positron\")\n",
    "\n",
    "# Make sure the map takes up the full width of the output area\n",
    "fig.update_layout(\n",
    "    autosize=True, # Set this to your preferred width (can be omitted if autosize works)\n",
    "    height=1080,  # Set this to your preferred height\n",
    "    margin={\"r\":0,\"t\":0,\"l\":0,\"b\":0}\n",
    ")\n",
    "\n",
    "# Show the interactive map\n",
    "fig.show()\n",
    "# Export the map as an HTML file\n",
    "fig.write_html(\"localizacoesAssai.html\")\n",
    "\n",
    "# Optionally, export as an image (png, jpg, svg)\n",
    "# fig.write_image(\"brazil_map_image.png\", scale=3)"
   ]
  }
 ],
 "metadata": {
  "kernelspec": {
   "display_name": "Python 3",
   "language": "python",
   "name": "python3"
  },
  "language_info": {
   "codemirror_mode": {
    "name": "ipython",
    "version": 3
   },
   "file_extension": ".py",
   "mimetype": "text/x-python",
   "name": "python",
   "nbconvert_exporter": "python",
   "pygments_lexer": "ipython3",
   "version": "3.12.4"
  }
 },
 "nbformat": 4,
 "nbformat_minor": 2
}
