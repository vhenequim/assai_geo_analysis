{
 "cells": [
  {
   "cell_type": "code",
   "execution_count": 61,
   "metadata": {},
   "outputs": [],
   "source": [
    "from bs4 import BeautifulSoup\n",
    "from datetime import datetime\n",
    "import re\n",
    "import polars as pl"
   ]
  },
  {
   "cell_type": "code",
   "execution_count": 62,
   "metadata": {},
   "outputs": [],
   "source": [
    "def extract_info(html_content):\n",
    "    soup = BeautifulSoup(html_content, 'html.parser')\n",
    "    results = []\n",
    "\n",
    "    for item in soup.find_all('div', class_='view-content'):\n",
    "        for store in item.find_all('div', recursive=False):\n",
    "            name_div = store.find('div', class_='views-field views-field-title')\n",
    "            if name_div:\n",
    "                name = name_div.find('a').text.strip()\n",
    "                \n",
    "                # Search for date in the entire store div\n",
    "                date_text = store.find(string=re.compile(r'\\d{2}/\\d{2}/\\d{4}'))\n",
    "                if date_text:\n",
    "                    date_str = date_text.strip()\n",
    "                    try:\n",
    "                        date = datetime.strptime(date_str, '%d/%m/%Y')\n",
    "                        trimester = (date.month - 1) // 3 + 1\n",
    "                        results.append((name, f\"{trimester}T{date.year}\"))\n",
    "                    except ValueError:\n",
    "                        results.append((name, \"Invalid date format\"))\n",
    "                else:\n",
    "                    results.append((name, \"Date not found\"))\n",
    "            \n",
    "    return results\n",
    "\n",
    "def process_html(html_content):\n",
    "    info = extract_info(html_content)\n",
    "    df = pl.DataFrame(info)\n",
    "    # for name, trimester in info:\n",
    "        # print(f\"Name: {name}\")\n",
    "        # print(f\"Trimester: {trimester}\")\n",
    "        # print(\"-\" * 30)\n",
    "    return df\n"
   ]
  },
  {
   "cell_type": "code",
   "execution_count": 63,
   "metadata": {},
   "outputs": [],
   "source": [
    "# Define the path to your HTML file\n",
    "file_path = 'data_2022.html'\n",
    "\n",
    "# Read the HTML file\n",
    "with open(file_path, 'r', encoding='utf-8') as file:\n",
    "    html_content = file.read()\n",
    "\n",
    "results = process_html(html_content)\n",
    "results = results.transpose()\n",
    "results.write_csv('T2022.csv')"
   ]
  },
  {
   "cell_type": "code",
   "execution_count": 64,
   "metadata": {},
   "outputs": [],
   "source": [
    "# Define the path to your HTML file\n",
    "file_path = 'data_2023.html'\n",
    "\n",
    "# Read the HTML file\n",
    "with open(file_path, 'r', encoding='utf-8') as file:\n",
    "    html_content = file.read()\n",
    "\n",
    "results = process_html(html_content)\n",
    "results = results.transpose()\n",
    "results.write_csv('T2023.csv')"
   ]
  },
  {
   "cell_type": "code",
   "execution_count": 65,
   "metadata": {},
   "outputs": [],
   "source": [
    "# Define the path to your HTML file\n",
    "file_path = 'data_2024.html'\n",
    "\n",
    "# Read the HTML file\n",
    "with open(file_path, 'r', encoding='utf-8') as file:\n",
    "    html_content = file.read()\n",
    "\n",
    "results = process_html(html_content)\n",
    "results = results.transpose()\n",
    "results.write_csv('T2024.csv')"
   ]
  }
 ],
 "metadata": {
  "kernelspec": {
   "display_name": "Python 3",
   "language": "python",
   "name": "python3"
  },
  "language_info": {
   "codemirror_mode": {
    "name": "ipython",
    "version": 3
   },
   "file_extension": ".py",
   "mimetype": "text/x-python",
   "name": "python",
   "nbconvert_exporter": "python",
   "pygments_lexer": "ipython3",
   "version": "3.12.4"
  }
 },
 "nbformat": 4,
 "nbformat_minor": 2
}
